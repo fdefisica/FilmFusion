{
  "nbformat": 4,
  "nbformat_minor": 0,
  "metadata": {
    "colab": {
      "provenance": [],
      "toc_visible": true
    },
    "kernelspec": {
      "name": "python3",
      "display_name": "Python 3"
    },
    "language_info": {
      "name": "python"
    }
  },
  "cells": [
    {
      "cell_type": "markdown",
      "source": [
        "# ***FilmFusión: Sistema de Recomendación de Películas***\n",
        "\n",
        "### FilmFusión es un sistema de recomendación de películas basado en inteligencia artificial que ayuda a los usuarios a encontrar la película ideal según sus gustos y preferencias. Utilizando técnicas de aprendizaje automático y análisis de datos, FilmFusión ofrece recomendaciones personalizadas al analizar información sobre películas, como géneros, actores, valoraciones y descripciones. El sistema puede ser implementado utilizando bibliotecas populares de Python como Pandas, NumPy y Scikit-learn, permitiendo a los usuarios descubrir nuevas películas que se alineen con sus intereses. Con FilmFusión, la búsqueda de la próxima gran película se convierte en una experiencia intuitiva y emocionante.\n",
        "\n",
        "* Para este proyecto estaremos utilizando una data ya existente que la sacamos de https://grouplens.org/datasets/movielens/, son calificaciones de películas de MovieLens 100K . Conjunto de datos de referencia estable. 100 000 calificaciones de 1000 usuarios sobre 1700 películas. Publicado en abril de 1998."
      ],
      "metadata": {
        "id": "gTfh7OblfImh"
      }
    },
    {
      "cell_type": "markdown",
      "source": [
        "# **1. Importación de librerias**"
      ],
      "metadata": {
        "id": "FDRGkmgUs2P0"
      }
    },
    {
      "cell_type": "code",
      "source": [
        "import pandas as pd\n",
        "import numpy as np\n",
        "from sklearn.model_selection import train_test_split\n",
        "from sklearn.metrics.pairwise import cosine_similarity\n",
        "from sklearn.preprocessing import StandardScaler"
      ],
      "metadata": {
        "id": "i3uDznKqs4Mz"
      },
      "execution_count": 58,
      "outputs": []
    },
    {
      "cell_type": "markdown",
      "source": [
        "# **2. Carga de Data**"
      ],
      "metadata": {
        "id": "sIK0j5xTa3Yc"
      }
    },
    {
      "cell_type": "code",
      "source": [
        "from google.colab import drive\n",
        "drive.mount('/content/drive')"
      ],
      "metadata": {
        "colab": {
          "base_uri": "https://localhost:8080/"
        },
        "id": "h_lme1vYQH2Z",
        "outputId": "08043e4e-bde1-4fff-989a-6473eb6f2f4e"
      },
      "execution_count": 59,
      "outputs": [
        {
          "output_type": "stream",
          "name": "stdout",
          "text": [
            "Drive already mounted at /content/drive; to attempt to forcibly remount, call drive.mount(\"/content/drive\", force_remount=True).\n"
          ]
        }
      ]
    },
    {
      "cell_type": "code",
      "source": [
        "import pandas as pd\n",
        "\n",
        "# Cambia 'ruta/a/tu/carpeta' por la ruta real en tu Google Drive\n",
        "data_path = '/content/drive/My Drive/dataproyecto2/'\n",
        "\n",
        "# Cargar las calificaciones\n",
        "ratings = pd.read_csv(data_path + 'u.data', sep='\\t', header=None, names=['user_id', 'item_id', 'rating', 'timestamp'])\n",
        "\n",
        "# Cargar la información de las películas\n",
        "movies = pd.read_csv(data_path + 'u.item', sep='|', header=None, encoding='latin-1',\n",
        "                        names=['item_id', 'title', 'release_date', 'video_release_date', 'IMDb_URL'] + ['genre_' + str(i) for i in range(19)])\n",
        "\n",
        "# Cargar la información de los usuarios\n",
        "users = pd.read_csv(data_path + 'u.user', sep='|', header=None, names=['user_id', 'age', 'gender', 'occupation', 'zip_code'])\n",
        "\n",
        "# Mostrar las primeras filas de cada DataFrame\n",
        "print(ratings.head())\n",
        "print(movies.head())\n",
        "print(users.head())"
      ],
      "metadata": {
        "colab": {
          "base_uri": "https://localhost:8080/"
        },
        "id": "oEr8wMsfZCh5",
        "outputId": "e98b7d64-7f69-44a2-d58f-160a96ba18b2"
      },
      "execution_count": 60,
      "outputs": [
        {
          "output_type": "stream",
          "name": "stdout",
          "text": [
            "   user_id  item_id  rating  timestamp\n",
            "0      196      242       3  881250949\n",
            "1      186      302       3  891717742\n",
            "2       22      377       1  878887116\n",
            "3      244       51       2  880606923\n",
            "4      166      346       1  886397596\n",
            "   item_id              title release_date  video_release_date  \\\n",
            "0        1   Toy Story (1995)  01-Jan-1995                 NaN   \n",
            "1        2   GoldenEye (1995)  01-Jan-1995                 NaN   \n",
            "2        3  Four Rooms (1995)  01-Jan-1995                 NaN   \n",
            "3        4  Get Shorty (1995)  01-Jan-1995                 NaN   \n",
            "4        5     Copycat (1995)  01-Jan-1995                 NaN   \n",
            "\n",
            "                                            IMDb_URL  genre_0  genre_1  \\\n",
            "0  http://us.imdb.com/M/title-exact?Toy%20Story%2...        0        0   \n",
            "1  http://us.imdb.com/M/title-exact?GoldenEye%20(...        0        1   \n",
            "2  http://us.imdb.com/M/title-exact?Four%20Rooms%...        0        0   \n",
            "3  http://us.imdb.com/M/title-exact?Get%20Shorty%...        0        1   \n",
            "4  http://us.imdb.com/M/title-exact?Copycat%20(1995)        0        0   \n",
            "\n",
            "   genre_2  genre_3  genre_4  ...  genre_9  genre_10  genre_11  genre_12  \\\n",
            "0        0        1        1  ...        0         0         0         0   \n",
            "1        1        0        0  ...        0         0         0         0   \n",
            "2        0        0        0  ...        0         0         0         0   \n",
            "3        0        0        0  ...        0         0         0         0   \n",
            "4        0        0        0  ...        0         0         0         0   \n",
            "\n",
            "   genre_13  genre_14  genre_15  genre_16  genre_17  genre_18  \n",
            "0         0         0         0         0         0         0  \n",
            "1         0         0         0         1         0         0  \n",
            "2         0         0         0         1         0         0  \n",
            "3         0         0         0         0         0         0  \n",
            "4         0         0         0         1         0         0  \n",
            "\n",
            "[5 rows x 24 columns]\n",
            "   user_id  age gender  occupation zip_code\n",
            "0        1   24      M  technician    85711\n",
            "1        2   53      F       other    94043\n",
            "2        3   23      M      writer    32067\n",
            "3        4   24      M  technician    43537\n",
            "4        5   33      F       other    15213\n"
          ]
        }
      ]
    },
    {
      "cell_type": "markdown",
      "source": [
        "# **3. Limpieza y preprocesamiento de los datos**"
      ],
      "metadata": {
        "id": "JkfPKQdebUqi"
      }
    },
    {
      "cell_type": "markdown",
      "source": [
        "### 3.1. Eliminar columnas innecesarias de movies"
      ],
      "metadata": {
        "id": "DNBhT4rVeTly"
      }
    },
    {
      "cell_type": "code",
      "source": [
        "movies = movies[['item_id', 'title']]\n",
        "print(movies.head())"
      ],
      "metadata": {
        "colab": {
          "base_uri": "https://localhost:8080/"
        },
        "id": "_kBBb7n_acAF",
        "outputId": "a556d903-e3eb-48fe-b097-8d7434caa44c"
      },
      "execution_count": 61,
      "outputs": [
        {
          "output_type": "stream",
          "name": "stdout",
          "text": [
            "   item_id              title\n",
            "0        1   Toy Story (1995)\n",
            "1        2   GoldenEye (1995)\n",
            "2        3  Four Rooms (1995)\n",
            "3        4  Get Shorty (1995)\n",
            "4        5     Copycat (1995)\n"
          ]
        }
      ]
    },
    {
      "cell_type": "markdown",
      "source": [
        "### 3.2. Convertir tipos de datos"
      ],
      "metadata": {
        "id": "q-KnMQ-aefx6"
      }
    },
    {
      "cell_type": "code",
      "source": [
        "ratings['timestamp'] = pd.to_datetime(ratings['timestamp'], unit='s')\n",
        "print(ratings.head())"
      ],
      "metadata": {
        "colab": {
          "base_uri": "https://localhost:8080/"
        },
        "id": "pYdjjhZWbn2h",
        "outputId": "9dabeaa7-7315-4ad8-8d12-e6a1a43b48fe"
      },
      "execution_count": 62,
      "outputs": [
        {
          "output_type": "stream",
          "name": "stdout",
          "text": [
            "   user_id  item_id  rating           timestamp\n",
            "0      196      242       3 1997-12-04 15:55:49\n",
            "1      186      302       3 1998-04-04 19:22:22\n",
            "2       22      377       1 1997-11-07 07:18:36\n",
            "3      244       51       2 1997-11-27 05:02:03\n",
            "4      166      346       1 1998-02-02 05:33:16\n"
          ]
        }
      ]
    },
    {
      "cell_type": "markdown",
      "source": [
        "### 3.3. Manejo de valores faltantes"
      ],
      "metadata": {
        "id": "MwJldi2ierY4"
      }
    },
    {
      "cell_type": "code",
      "source": [
        "print(ratings.isnull().sum())\n",
        "print(movies.isnull().sum())\n",
        "print(users.isnull().sum())"
      ],
      "metadata": {
        "colab": {
          "base_uri": "https://localhost:8080/"
        },
        "id": "LYKvjPNLcdN_",
        "outputId": "5cf8b655-73dd-44a2-f21f-29c7df677da5"
      },
      "execution_count": 63,
      "outputs": [
        {
          "output_type": "stream",
          "name": "stdout",
          "text": [
            "user_id      0\n",
            "item_id      0\n",
            "rating       0\n",
            "timestamp    0\n",
            "dtype: int64\n",
            "item_id    0\n",
            "title      0\n",
            "dtype: int64\n",
            "user_id       0\n",
            "age           0\n",
            "gender        0\n",
            "occupation    0\n",
            "zip_code      0\n",
            "dtype: int64\n"
          ]
        }
      ]
    },
    {
      "cell_type": "markdown",
      "source": [
        "### 3.4. Normalizar los datos"
      ],
      "metadata": {
        "id": "T0LTlIkGexbK"
      }
    },
    {
      "cell_type": "code",
      "source": [
        "#calificación normalizada = calificación - min / ma - min\n",
        "\n",
        "# Definir el rango de las calificaciones\n",
        "min_rating = 1\n",
        "max_rating = 5\n",
        "\n",
        "# Normalizar las calificaciones\n",
        "ratings['normalized_rating'] = (ratings['rating'] - min_rating) / (max_rating - min_rating)\n",
        "\n",
        "# Mostrar las primeras filas para verificar\n",
        "print(ratings[['user_id', 'item_id', 'rating', 'normalized_rating']].head())\n"
      ],
      "metadata": {
        "colab": {
          "base_uri": "https://localhost:8080/"
        },
        "id": "Cd6Y88bddSDF",
        "outputId": "eaed703a-2efd-40fe-9fa0-928404c93225"
      },
      "execution_count": 64,
      "outputs": [
        {
          "output_type": "stream",
          "name": "stdout",
          "text": [
            "   user_id  item_id  rating  normalized_rating\n",
            "0      196      242       3               0.50\n",
            "1      186      302       3               0.50\n",
            "2       22      377       1               0.00\n",
            "3      244       51       2               0.25\n",
            "4      166      346       1               0.00\n"
          ]
        }
      ]
    },
    {
      "cell_type": "markdown",
      "source": [
        "# **4.  Crear una matriz de calificaciones:**\n",
        "\n",
        "##### Crear una matriz donde las filas son usuarios y las columnas son películas. Esto facilitará el cálculo de similitudes."
      ],
      "metadata": {
        "id": "A3jfjLiQvzCU"
      }
    },
    {
      "cell_type": "code",
      "source": [],
      "metadata": {
        "id": "UIdtd6hOw6EY"
      },
      "execution_count": null,
      "outputs": []
    },
    {
      "cell_type": "markdown",
      "source": [
        "# **5. Dividir el conjunto de datos:**\n",
        "\n",
        "##### Dividimos los datos en conjuntos de entrenamiento y prueba para evaluar el sistema de recomendación"
      ],
      "metadata": {
        "id": "HaNVqtLXwhqp"
      }
    },
    {
      "cell_type": "code",
      "source": [],
      "metadata": {
        "id": "cl7FS2F7w6cg"
      },
      "execution_count": null,
      "outputs": []
    },
    {
      "cell_type": "markdown",
      "source": [
        "# **6. Calcular la similitud entre usuarios:**\n",
        "\n",
        "##### Usamos la similitud del coseno para calcular qué tan similares son los usuarios en base a sus calificaciones."
      ],
      "metadata": {
        "id": "umStD2J1wsRY"
      }
    },
    {
      "cell_type": "code",
      "source": [],
      "metadata": {
        "id": "kdiGuX-Zw7E5"
      },
      "execution_count": null,
      "outputs": []
    },
    {
      "cell_type": "markdown",
      "source": [
        "# **7.  Función para hacer recomendaciones:**\n",
        "\n",
        "##### Definimos una función que toma un ID de usuario y devuelve recomendaciones basadas en usuarios similares."
      ],
      "metadata": {
        "id": "srHIzJKzw4qY"
      }
    },
    {
      "cell_type": "code",
      "source": [],
      "metadata": {
        "id": "OAmcCHVKxQ43"
      },
      "execution_count": null,
      "outputs": []
    },
    {
      "cell_type": "markdown",
      "source": [
        "# **8. Probar el sistema de recomendación:**\n",
        "\n",
        "##### Probamos la función con un usuario específico y mostramos las películas recomendadas."
      ],
      "metadata": {
        "id": "DfQwDVoSxFHf"
      }
    },
    {
      "cell_type": "code",
      "source": [],
      "metadata": {
        "id": "UZa8jVaWxE4f"
      },
      "execution_count": null,
      "outputs": []
    }
  ]
}
